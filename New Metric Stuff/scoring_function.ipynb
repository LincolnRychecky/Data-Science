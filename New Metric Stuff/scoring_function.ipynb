{
 "cells": [
  {
   "cell_type": "code",
   "execution_count": 53,
   "metadata": {},
   "outputs": [],
   "source": [
    "import pandas as pd\n",
    "from sklearn.metrics import (precision_score, recall_score,\n",
    "                             f1_score, confusion_matrix,\n",
    "                             recall_score,\n",
    "                             precision_recall_curve, log_loss,\n",
    "                            roc_auc_score, accuracy_score)"
   ]
  },
  {
   "cell_type": "code",
   "execution_count": 36,
   "metadata": {},
   "outputs": [
    {
     "data": {
      "text/plain": [
       "'{\"prob\":{\"0\":0.4,\"1\":0.44,\"2\":0.48,\"3\":0.43,\"4\":0.49,\"5\":0.499,\"6\":0.51,\"7\":0.52,\"8\":0.56,\"9\":0.52,\"10\":0.53},\"predicted\":{\"0\":0,\"1\":0,\"2\":0,\"3\":0,\"4\":0,\"5\":0,\"6\":1,\"7\":1,\"8\":1,\"9\":1,\"10\":1},\"actual\":{\"0\":0,\"1\":0,\"2\":0,\"3\":0,\"4\":1,\"5\":1,\"6\":1,\"7\":1,\"8\":0,\"9\":0,\"10\":0}}'"
      ]
     },
     "execution_count": 36,
     "metadata": {},
     "output_type": "execute_result"
    }
   ],
   "source": [
    "df_temp = pd.read_clipboard()\n",
    "\n",
    "df_temp.to_json()"
   ]
  },
  {
   "cell_type": "code",
   "execution_count": 44,
   "metadata": {},
   "outputs": [],
   "source": [
    "df_a =pd.DataFrame({\n",
    "    \"prob\":{\"0\":0.2,\"1\":0.05,\"2\":0.3,\"3\":0.3,\"4\":0.35,\"5\":0.4,\"6\":0.51,\"7\":0.78,\"8\":0.98,\"9\":0.65,\"10\":0.72},\n",
    "    \"pred\":{\"0\":0,\"1\":0,\"2\":0,\"3\":0,\"4\":0,\"5\":0,\"6\":1,\"7\":1,\"8\":1,\"9\":1,\"10\":1},\n",
    "    \"act\":{\"0\":0,\"1\":0,\"2\":0,\"3\":0,\"4\":1,\"5\":1,\"6\":1,\"7\":1,\"8\":0,\"9\":0,\"10\":0}})"
   ]
  },
  {
   "cell_type": "code",
   "execution_count": 45,
   "metadata": {},
   "outputs": [],
   "source": [
    "df_b =pd.DataFrame({\n",
    "    \"prob\":{\"0\":0.4,\"1\":0.44,\"2\":0.48,\"3\":0.43,\"4\":0.49,\"5\":0.499,\"6\":0.51,\"7\":0.52,\"8\":0.56,\"9\":0.52,\"10\":0.53},\n",
    "    \"pred\":{\"0\":0,\"1\":0,\"2\":0,\"3\":0,\"4\":0,\"5\":0,\"6\":1,\"7\":1,\"8\":1,\"9\":1,\"10\":1},\n",
    "    \"act\":{\"0\":0,\"1\":0,\"2\":0,\"3\":0,\"4\":1,\"5\":1,\"6\":1,\"7\":1,\"8\":0,\"9\":0,\"10\":0}})"
   ]
  },
  {
   "cell_type": "code",
   "execution_count": 50,
   "metadata": {},
   "outputs": [],
   "source": [
    "def demo_score(prob,act):\n",
    "    return ((prob-act)**2).mean()"
   ]
  },
  {
   "cell_type": "code",
   "execution_count": 51,
   "metadata": {},
   "outputs": [
    {
     "data": {
      "text/plain": [
       "0.2904363636363636"
      ]
     },
     "execution_count": 51,
     "metadata": {},
     "output_type": "execute_result"
    }
   ],
   "source": [
    "demo_score(df_a['prob'],df_a['act'])"
   ]
  },
  {
   "cell_type": "code",
   "execution_count": 52,
   "metadata": {},
   "outputs": [
    {
     "data": {
      "text/plain": [
       "0.23776372727272727"
      ]
     },
     "execution_count": 52,
     "metadata": {},
     "output_type": "execute_result"
    }
   ],
   "source": [
    "demo_score(df_b['prob'],df_b['act'])"
   ]
  },
  {
   "cell_type": "code",
   "execution_count": 24,
   "metadata": {},
   "outputs": [],
   "source": [
    "list_f = [precision_score, recall_score, accuracy_score, f1_score]"
   ]
  },
  {
   "cell_type": "code",
   "execution_count": 25,
   "metadata": {},
   "outputs": [
    {
     "data": {
      "text/plain": [
       "{'precision_score': 0.5,\n",
       " 'recall_score': 0.4,\n",
       " 'accuracy_score': 0.5454545454545454,\n",
       " 'f1_score': 0.4444444444444445}"
      ]
     },
     "execution_count": 25,
     "metadata": {},
     "output_type": "execute_result"
    }
   ],
   "source": [
    "{f.__name__:f(df['pred'], df['act']) for f in list_f}"
   ]
  },
  {
   "cell_type": "code",
   "execution_count": 2,
   "metadata": {},
   "outputs": [
    {
     "ename": "NameError",
     "evalue": "name 'f' is not defined",
     "output_type": "error",
     "traceback": [
      "\u001b[1;31m---------------------------------------------------------------------------\u001b[0m",
      "\u001b[1;31mNameError\u001b[0m                                 Traceback (most recent call last)",
      "\u001b[1;32m<ipython-input-2-7433c90170bf>\u001b[0m in \u001b[0;36m<module>\u001b[1;34m\u001b[0m\n\u001b[1;32m----> 1\u001b[1;33m \u001b[0mf\u001b[0m\u001b[1;33m.\u001b[0m\u001b[0mprecision_score\u001b[0m\u001b[1;33m(\u001b[0m\u001b[0mdf\u001b[0m\u001b[1;33m[\u001b[0m\u001b[1;34m'pred'\u001b[0m\u001b[1;33m]\u001b[0m\u001b[1;33m,\u001b[0m \u001b[0mdf\u001b[0m\u001b[1;33m[\u001b[0m\u001b[1;34m'act'\u001b[0m\u001b[1;33m]\u001b[0m\u001b[1;33m)\u001b[0m\u001b[1;33m\u001b[0m\u001b[0m\n\u001b[0m",
      "\u001b[1;31mNameError\u001b[0m: name 'f' is not defined"
     ]
    }
   ],
   "source": [
    "precision_score()"
   ]
  },
  {
   "cell_type": "code",
   "execution_count": null,
   "metadata": {},
   "outputs": [],
   "source": []
  }
 ],
 "metadata": {
  "kernelspec": {
   "display_name": "Python (ret)",
   "language": "python",
   "name": "ret"
  },
  "language_info": {
   "codemirror_mode": {
    "name": "ipython",
    "version": 3
   },
   "file_extension": ".py",
   "mimetype": "text/x-python",
   "name": "python",
   "nbconvert_exporter": "python",
   "pygments_lexer": "ipython3",
   "version": "3.6.2"
  }
 },
 "nbformat": 4,
 "nbformat_minor": 4
}
